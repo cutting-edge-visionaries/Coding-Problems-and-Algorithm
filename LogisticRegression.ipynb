{
 "cells": [
  {
   "cell_type": "code",
   "execution_count": 1,
   "metadata": {},
   "outputs": [],
   "source": [
    "\n",
    "import numpy as np\n",
    "import matplotlib.pyplot as plt\n",
    "import pandas as pd\n",
    "import seaborn as sn"
   ]
  },
  {
   "cell_type": "code",
   "execution_count": 2,
   "metadata": {},
   "outputs": [],
   "source": [
    "dataset = pd.read_csv('/home/gray/Desktop/dataset/Social_Network_Ads.csv')"
   ]
  },
  {
   "cell_type": "code",
   "execution_count": 3,
   "metadata": {},
   "outputs": [
    {
     "data": {
      "text/html": [
       "<div>\n",
       "<style scoped>\n",
       "    .dataframe tbody tr th:only-of-type {\n",
       "        vertical-align: middle;\n",
       "    }\n",
       "\n",
       "    .dataframe tbody tr th {\n",
       "        vertical-align: top;\n",
       "    }\n",
       "\n",
       "    .dataframe thead th {\n",
       "        text-align: right;\n",
       "    }\n",
       "</style>\n",
       "<table border=\"1\" class=\"dataframe\">\n",
       "  <thead>\n",
       "    <tr style=\"text-align: right;\">\n",
       "      <th></th>\n",
       "      <th>User ID</th>\n",
       "      <th>Gender</th>\n",
       "      <th>Age</th>\n",
       "      <th>EstimatedSalary</th>\n",
       "      <th>Purchased</th>\n",
       "    </tr>\n",
       "  </thead>\n",
       "  <tbody>\n",
       "    <tr>\n",
       "      <th>0</th>\n",
       "      <td>15624510</td>\n",
       "      <td>Male</td>\n",
       "      <td>19</td>\n",
       "      <td>19000</td>\n",
       "      <td>0</td>\n",
       "    </tr>\n",
       "    <tr>\n",
       "      <th>1</th>\n",
       "      <td>15810944</td>\n",
       "      <td>Male</td>\n",
       "      <td>35</td>\n",
       "      <td>20000</td>\n",
       "      <td>0</td>\n",
       "    </tr>\n",
       "    <tr>\n",
       "      <th>2</th>\n",
       "      <td>15668575</td>\n",
       "      <td>Female</td>\n",
       "      <td>26</td>\n",
       "      <td>43000</td>\n",
       "      <td>0</td>\n",
       "    </tr>\n",
       "    <tr>\n",
       "      <th>3</th>\n",
       "      <td>15603246</td>\n",
       "      <td>Female</td>\n",
       "      <td>27</td>\n",
       "      <td>57000</td>\n",
       "      <td>0</td>\n",
       "    </tr>\n",
       "    <tr>\n",
       "      <th>4</th>\n",
       "      <td>15804002</td>\n",
       "      <td>Male</td>\n",
       "      <td>19</td>\n",
       "      <td>76000</td>\n",
       "      <td>0</td>\n",
       "    </tr>\n",
       "  </tbody>\n",
       "</table>\n",
       "</div>"
      ],
      "text/plain": [
       "    User ID  Gender  Age  EstimatedSalary  Purchased\n",
       "0  15624510    Male   19            19000          0\n",
       "1  15810944    Male   35            20000          0\n",
       "2  15668575  Female   26            43000          0\n",
       "3  15603246  Female   27            57000          0\n",
       "4  15804002    Male   19            76000          0"
      ]
     },
     "execution_count": 3,
     "metadata": {},
     "output_type": "execute_result"
    }
   ],
   "source": [
    "dataset.head()"
   ]
  },
  {
   "cell_type": "code",
   "execution_count": 4,
   "metadata": {},
   "outputs": [
    {
     "data": {
      "text/plain": [
       "array(['Male', 'Female'], dtype=object)"
      ]
     },
     "execution_count": 4,
     "metadata": {},
     "output_type": "execute_result"
    }
   ],
   "source": [
    "dataset['Gender'].unique()\n"
   ]
  },
  {
   "cell_type": "code",
   "execution_count": 5,
   "metadata": {},
   "outputs": [],
   "source": [
    "dataset['Gender'] = np.where(dataset['Gender'] =='Male', 1, dataset['Gender'])\n",
    "dataset['Gender'] = np.where(dataset['Gender'] =='Female', 0, dataset['Gender'])"
   ]
  },
  {
   "cell_type": "code",
   "execution_count": 6,
   "metadata": {},
   "outputs": [
    {
     "data": {
      "text/plain": [
       "0      1\n",
       "1      1\n",
       "2      0\n",
       "3      0\n",
       "4      1\n",
       "      ..\n",
       "395    0\n",
       "396    1\n",
       "397    0\n",
       "398    1\n",
       "399    0\n",
       "Name: Gender, Length: 400, dtype: int64"
      ]
     },
     "execution_count": 6,
     "metadata": {},
     "output_type": "execute_result"
    }
   ],
   "source": [
    "dataset['Gender']\n",
    "dataset[\"Gender\"] = dataset[\"Gender\"].astype('int64')\n",
    "dataset['Gender']"
   ]
  },
  {
   "cell_type": "code",
   "execution_count": 7,
   "metadata": {},
   "outputs": [],
   "source": [
    "df = dataset.iloc[:, :]\n",
    "corrmat = df.corr()"
   ]
  },
  {
   "cell_type": "code",
   "execution_count": 8,
   "metadata": {},
   "outputs": [
    {
     "data": {
      "image/png": "[encoded data removed]",
      "text/plain": [
       "<Figure size 432x288 with 2 Axes>"
      ]
     },
     "metadata": {
      "needs_background": "light"
     },
     "output_type": "display_data"
    }
   ],
   "source": [
    "sn.heatmap(corrmat, annot=True)\n",
    "plt.show()"
   ]
  },
  {
   "cell_type": "code",
   "execution_count": 9,
   "metadata": {},
   "outputs": [],
   "source": [
    "X = dataset.iloc[: , [ 2]]\n",
    "Y = dataset.iloc[:, [4]]"
   ]
  },
  {
   "cell_type": "code",
   "execution_count": 10,
   "metadata": {},
   "outputs": [
    {
     "data": {
      "text/html": [
       "<div>\n",
       "<style scoped>\n",
       "    .dataframe tbody tr th:only-of-type {\n",
       "        vertical-align: middle;\n",
       "    }\n",
       "\n",
       "    .dataframe tbody tr th {\n",
       "        vertical-align: top;\n",
       "    }\n",
       "\n",
       "    .dataframe thead th {\n",
       "        text-align: right;\n",
       "    }\n",
       "</style>\n",
       "<table border=\"1\" class=\"dataframe\">\n",
       "  <thead>\n",
       "    <tr style=\"text-align: right;\">\n",
       "      <th></th>\n",
       "      <th>Age</th>\n",
       "    </tr>\n",
       "  </thead>\n",
       "  <tbody>\n",
       "    <tr>\n",
       "      <th>0</th>\n",
       "      <td>19</td>\n",
       "    </tr>\n",
       "    <tr>\n",
       "      <th>1</th>\n",
       "      <td>35</td>\n",
       "    </tr>\n",
       "    <tr>\n",
       "      <th>2</th>\n",
       "      <td>26</td>\n",
       "    </tr>\n",
       "    <tr>\n",
       "      <th>3</th>\n",
       "      <td>27</td>\n",
       "    </tr>\n",
       "    <tr>\n",
       "      <th>4</th>\n",
       "      <td>19</td>\n",
       "    </tr>\n",
       "  </tbody>\n",
       "</table>\n",
       "</div>"
      ],
      "text/plain": [
       "   Age\n",
       "0   19\n",
       "1   35\n",
       "2   26\n",
       "3   27\n",
       "4   19"
      ]
     },
     "execution_count": 10,
     "metadata": {},
     "output_type": "execute_result"
    }
   ],
   "source": [
    "X.head()"
   ]
  },
  {
   "cell_type": "code",
   "execution_count": 11,
   "metadata": {},
   "outputs": [
    {
     "data": {
      "text/plain": [
       "(400, 1)"
      ]
     },
     "execution_count": 11,
     "metadata": {},
     "output_type": "execute_result"
    }
   ],
   "source": [
    "Y.shape"
   ]
  },
  {
   "cell_type": "code",
   "execution_count": 12,
   "metadata": {},
   "outputs": [],
   "source": [
    "from sklearn.model_selection import train_test_split\n",
    "\n",
    "X_train, X_test, Y_train, Y_test = train_test_split( X, Y, test_size=0.2, random_state = 9)"
   ]
  },
  {
   "cell_type": "code",
   "execution_count": null,
   "metadata": {},
   "outputs": [],
   "source": [
    "X_train = np.array(X_train)\n",
    "X_test = np.array(X_test)\n",
    "Y_test = np.array(Y_test)\n",
    "Y_train = np.array((Y_train))\n",
    "Y_test.reshape(-1, 1)\n",
    "Y_train.reshape(-1,1)"
   ]
  },
  {
   "cell_type": "code",
   "execution_count": 14,
   "metadata": {},
   "outputs": [
    {
     "name": "stdout",
     "output_type": "stream",
     "text": [
      "(320, 1) (80, 1) (320, 1) (80, 1)\n"
     ]
    }
   ],
   "source": [
    "print('{} {} {} {}'.format(X_train.shape, X_test.shape, Y_train.shape, Y_test.shape))"
   ]
  },
  {
   "cell_type": "code",
   "execution_count": 15,
   "metadata": {},
   "outputs": [],
   "source": [
    "def normalise(X):\n",
    "    mean = np.mean(X, axis = 0)\n",
    "    std = np.std(X, axis=0)\n",
    "    X = (X-mean)/std\n",
    "    print(mean)\n",
    "    print(std)\n",
    "    return X\n",
    "\n",
    "def biasing(x):\n",
    "    n = x.shape[0]\n",
    "    arr = np.ones((n, 1))\n",
    "    x = np.hstack((arr, x))\n",
    "    return x"
   ]
  },
  {
   "cell_type": "code",
   "execution_count": 16,
   "metadata": {},
   "outputs": [
    {
     "name": "stdout",
     "output_type": "stream",
     "text": [
      "[37.721875]\n",
      "[10.56885857]\n"
     ]
    }
   ],
   "source": [
    "X_train = normalise(X_train)"
   ]
  },
  {
   "cell_type": "code",
   "execution_count": 17,
   "metadata": {},
   "outputs": [
    {
     "data": {
      "text/plain": [
       "array([[-0.91986045],\n",
       "       [-1.58218363],\n",
       "       [ 0.12093312],\n",
       "       [ 2.10790265],\n",
       "       [ 0.6886387 ],\n",
       "       [ 1.06710909],\n",
       "       [-0.25753727],\n",
       "       [ 0.31016831],\n",
       "       [-0.06830208],\n",
       "       [ 0.40478591],\n",
       "       [-1.10909564],\n",
       "       [ 0.87787389],\n",
       "       [ 1.16172668],\n",
       "       [-1.39294843],\n",
       "       [ 0.40478591],\n",
       "       [ 1.91866746],\n",
       "       [ 0.97249149],\n",
       "       [ 1.35096188],\n",
       "       [-0.06830208],\n",
       "       [ 0.31016831],\n",
       "       [-0.63600766],\n",
       "       [-0.25753727],\n",
       "       [ 0.6886387 ],\n",
       "       [-0.91986045],\n",
       "       [-0.06830208],\n",
       "       [-0.25753727],\n",
       "       [ 0.97249149],\n",
       "       [-1.01447805],\n",
       "       [ 0.21555071],\n",
       "       [ 0.97249149],\n",
       "       [-1.48756603],\n",
       "       [ 1.06710909],\n",
       "       [-1.01447805],\n",
       "       [-1.01447805],\n",
       "       [ 0.21555071],\n",
       "       [-1.10909564],\n",
       "       [ 1.54019707],\n",
       "       [-1.10909564],\n",
       "       [ 2.01328505],\n",
       "       [-1.77141882],\n",
       "       [ 1.91866746],\n",
       "       [ 0.40478591],\n",
       "       [-0.91986045],\n",
       "       [ 2.10790265],\n",
       "       [-0.25753727],\n",
       "       [-0.16291967],\n",
       "       [-0.44677247],\n",
       "       [ 2.01328505],\n",
       "       [ 1.44557947],\n",
       "       [ 0.02631552],\n",
       "       [-1.10909564],\n",
       "       [ 0.21555071],\n",
       "       [-0.35215487],\n",
       "       [-0.25753727],\n",
       "       [ 0.4994035 ],\n",
       "       [-0.63600766],\n",
       "       [-0.16291967],\n",
       "       [-0.16291967],\n",
       "       [-0.73062526],\n",
       "       [-1.20371324],\n",
       "       [-1.10909564],\n",
       "       [ 0.21555071],\n",
       "       [-0.25753727],\n",
       "       [ 1.06710909],\n",
       "       [-0.63600766],\n",
       "       [-0.73062526],\n",
       "       [ 0.21555071],\n",
       "       [ 0.78325629],\n",
       "       [-1.67680123],\n",
       "       [-1.86603642],\n",
       "       [ 0.97249149],\n",
       "       [-1.86603642],\n",
       "       [-0.82524285],\n",
       "       [-0.25753727],\n",
       "       [ 0.12093312],\n",
       "       [-1.29833084],\n",
       "       [-0.35215487],\n",
       "       [ 0.78325629],\n",
       "       [ 2.10790265],\n",
       "       [ 0.87787389],\n",
       "       [-0.63600766],\n",
       "       [-0.63600766],\n",
       "       [-0.91986045],\n",
       "       [-1.77141882],\n",
       "       [-0.06830208],\n",
       "       [ 0.78325629],\n",
       "       [-0.06830208],\n",
       "       [ 1.91866746],\n",
       "       [-0.25753727],\n",
       "       [-1.77141882],\n",
       "       [ 1.25634428],\n",
       "       [ 0.78325629],\n",
       "       [ 0.31016831],\n",
       "       [-1.01447805],\n",
       "       [-0.25753727],\n",
       "       [ 0.21555071],\n",
       "       [-0.25753727],\n",
       "       [-1.58218363],\n",
       "       [-0.25753727],\n",
       "       [ 0.02631552],\n",
       "       [ 1.91866746],\n",
       "       [-0.91986045],\n",
       "       [ 1.63481467],\n",
       "       [-0.82524285],\n",
       "       [-0.44677247],\n",
       "       [ 0.02631552],\n",
       "       [ 1.16172668],\n",
       "       [-1.01447805],\n",
       "       [ 1.91866746],\n",
       "       [ 0.12093312],\n",
       "       [ 1.06710909],\n",
       "       [ 0.31016831],\n",
       "       [-0.73062526],\n",
       "       [ 0.21555071],\n",
       "       [-0.35215487],\n",
       "       [ 0.40478591],\n",
       "       [-0.73062526],\n",
       "       [ 0.97249149],\n",
       "       [ 0.40478591],\n",
       "       [ 0.21555071],\n",
       "       [-1.48756603],\n",
       "       [-0.44677247],\n",
       "       [-1.20371324],\n",
       "       [-1.39294843],\n",
       "       [-1.01447805],\n",
       "       [ 0.87787389],\n",
       "       [-1.01447805],\n",
       "       [-0.06830208],\n",
       "       [ 2.01328505],\n",
       "       [-0.82524285],\n",
       "       [-0.44677247],\n",
       "       [ 0.87787389],\n",
       "       [ 0.87787389],\n",
       "       [ 0.78325629],\n",
       "       [-0.25753727],\n",
       "       [-0.54139006],\n",
       "       [-1.10909564],\n",
       "       [-1.01447805],\n",
       "       [-0.44677247],\n",
       "       [ 0.31016831],\n",
       "       [ 0.87787389],\n",
       "       [-1.29833084],\n",
       "       [ 0.40478591],\n",
       "       [ 0.97249149],\n",
       "       [ 2.10790265],\n",
       "       [-0.35215487],\n",
       "       [ 1.06710909],\n",
       "       [-1.86603642],\n",
       "       [-0.44677247],\n",
       "       [-0.25753727],\n",
       "       [-1.20371324],\n",
       "       [ 0.31016831],\n",
       "       [-1.29833084],\n",
       "       [-0.82524285],\n",
       "       [-0.82524285],\n",
       "       [ 1.06710909],\n",
       "       [-1.67680123],\n",
       "       [-1.10909564],\n",
       "       [-1.10909564],\n",
       "       [-0.63600766],\n",
       "       [-1.77141882],\n",
       "       [-0.16291967],\n",
       "       [ 0.21555071],\n",
       "       [-0.63600766],\n",
       "       [-1.67680123],\n",
       "       [ 2.01328505],\n",
       "       [-0.25753727],\n",
       "       [ 0.12093312],\n",
       "       [ 1.16172668],\n",
       "       [-1.10909564],\n",
       "       [-1.29833084],\n",
       "       [-0.25753727],\n",
       "       [ 0.12093312],\n",
       "       [-0.25753727],\n",
       "       [ 0.31016831],\n",
       "       [-0.82524285],\n",
       "       [ 0.40478591],\n",
       "       [ 1.06710909],\n",
       "       [-1.01447805],\n",
       "       [-1.10909564],\n",
       "       [ 0.12093312],\n",
       "       [ 1.35096188],\n",
       "       [-0.63600766],\n",
       "       [-1.10909564],\n",
       "       [-0.25753727],\n",
       "       [ 0.31016831],\n",
       "       [-0.16291967],\n",
       "       [-1.39294843],\n",
       "       [-0.06830208],\n",
       "       [ 0.12093312],\n",
       "       [-0.25753727],\n",
       "       [ 0.97249149],\n",
       "       [ 0.02631552],\n",
       "       [-0.06830208],\n",
       "       [ 0.31016831],\n",
       "       [-1.67680123],\n",
       "       [-0.06830208],\n",
       "       [ 0.12093312],\n",
       "       [-0.73062526],\n",
       "       [-0.06830208],\n",
       "       [-0.06830208],\n",
       "       [ 0.78325629],\n",
       "       [-0.73062526],\n",
       "       [ 0.97249149],\n",
       "       [ 1.82404986],\n",
       "       [ 1.54019707],\n",
       "       [ 1.06710909],\n",
       "       [-0.16291967],\n",
       "       [-0.06830208],\n",
       "       [-0.06830208],\n",
       "       [-0.91986045],\n",
       "       [-0.35215487],\n",
       "       [-1.77141882],\n",
       "       [-1.39294843],\n",
       "       [ 1.72943226],\n",
       "       [-0.06830208],\n",
       "       [ 0.87787389],\n",
       "       [-1.29833084],\n",
       "       [ 2.01328505],\n",
       "       [-0.06830208],\n",
       "       [ 0.02631552],\n",
       "       [ 1.72943226],\n",
       "       [ 0.21555071],\n",
       "       [ 0.40478591],\n",
       "       [-0.73062526],\n",
       "       [ 1.91866746],\n",
       "       [-0.54139006],\n",
       "       [-1.29833084],\n",
       "       [ 0.4994035 ],\n",
       "       [ 0.6886387 ],\n",
       "       [-0.25753727],\n",
       "       [-0.06830208],\n",
       "       [ 2.10790265],\n",
       "       [ 0.31016831],\n",
       "       [ 0.97249149],\n",
       "       [-1.20371324],\n",
       "       [-0.91986045],\n",
       "       [ 2.01328505],\n",
       "       [ 0.97249149],\n",
       "       [-0.82524285],\n",
       "       [ 0.31016831],\n",
       "       [-1.86603642],\n",
       "       [ 0.02631552],\n",
       "       [ 0.02631552],\n",
       "       [ 0.97249149],\n",
       "       [ 0.02631552],\n",
       "       [ 0.87787389],\n",
       "       [-0.25753727],\n",
       "       [ 0.78325629],\n",
       "       [-0.25753727],\n",
       "       [ 1.25634428],\n",
       "       [-1.58218363],\n",
       "       [-0.82524285],\n",
       "       [ 0.31016831],\n",
       "       [-1.20371324],\n",
       "       [-0.25753727],\n",
       "       [-1.20371324],\n",
       "       [ 0.40478591],\n",
       "       [ 0.40478591],\n",
       "       [ 1.82404986],\n",
       "       [ 0.40478591],\n",
       "       [-1.10909564],\n",
       "       [ 2.01328505],\n",
       "       [ 0.12093312],\n",
       "       [-0.25753727],\n",
       "       [-0.16291967],\n",
       "       [-1.01447805],\n",
       "       [ 0.78325629],\n",
       "       [-0.16291967],\n",
       "       [ 1.44557947],\n",
       "       [-0.35215487],\n",
       "       [ 0.02631552],\n",
       "       [-0.73062526],\n",
       "       [-1.67680123],\n",
       "       [-0.82524285],\n",
       "       [ 2.10790265],\n",
       "       [ 1.25634428],\n",
       "       [-0.25753727],\n",
       "       [ 0.97249149],\n",
       "       [ 1.35096188],\n",
       "       [-0.54139006],\n",
       "       [-0.54139006],\n",
       "       [ 1.82404986],\n",
       "       [ 0.87787389],\n",
       "       [-1.48756603],\n",
       "       [-1.86603642],\n",
       "       [ 0.4994035 ],\n",
       "       [-0.63600766],\n",
       "       [ 0.02631552],\n",
       "       [ 0.21555071],\n",
       "       [-0.73062526],\n",
       "       [ 0.31016831],\n",
       "       [ 1.82404986],\n",
       "       [ 1.72943226],\n",
       "       [-1.10909564],\n",
       "       [-0.44677247],\n",
       "       [ 0.87787389],\n",
       "       [ 1.82404986],\n",
       "       [-1.67680123],\n",
       "       [-0.16291967],\n",
       "       [ 0.02631552],\n",
       "       [ 0.6886387 ],\n",
       "       [-0.44677247],\n",
       "       [ 0.78325629],\n",
       "       [-0.25753727],\n",
       "       [ 1.54019707],\n",
       "       [-0.16291967],\n",
       "       [ 0.31016831],\n",
       "       [ 0.02631552],\n",
       "       [ 0.5940211 ],\n",
       "       [ 0.40478591],\n",
       "       [-0.54139006],\n",
       "       [ 0.97249149],\n",
       "       [-1.29833084],\n",
       "       [ 0.12093312],\n",
       "       [-0.06830208],\n",
       "       [-1.39294843],\n",
       "       [ 0.40478591],\n",
       "       [ 0.12093312],\n",
       "       [ 0.5940211 ]])"
      ]
     },
     "execution_count": 17,
     "metadata": {},
     "output_type": "execute_result"
    }
   ],
   "source": [
    "X_train"
   ]
  },
  {
   "cell_type": "code",
   "execution_count": 18,
   "metadata": {},
   "outputs": [],
   "source": [
    "def sigmoid_func(theta, x):\n",
    "    temp = x@theta\n",
    "    return 1/(1 + np.exp(-temp))"
   ]
  },
  {
   "cell_type": "code",
   "execution_count": 19,
   "metadata": {},
   "outputs": [],
   "source": [
    "def likelihood(x, y, w):\n",
    "    sig = np.log(sigmoid_func(w, x))\n",
    "    #print(sig)\n",
    "    part1 = y.T@sig\n",
    "    part2 = ((1-y).T)@np.log(1 - sigmoid_func(w, x))\n",
    "    return part1+part2"
   ]
  },
  {
   "cell_type": "code",
   "execution_count": 20,
   "metadata": {},
   "outputs": [],
   "source": [
    "def gradient_ascent(x, y, w, alpha, itr):\n",
    "    J = []\n",
    "    initial = np.sum(likelihood(x, y, w))\n",
    "    J.append(initial)\n",
    "    N = x.shape[0]\n",
    "    for i in range(0, itr):\n",
    "        d = (y - sigmoid_func(w, x))\n",
    "        w = w + (alpha*x.T@d)/N\n",
    "        cost = likelihood(x, y, w)\n",
    "        J.append(np.sum(cost))\n",
    "    return J, w\n"
   ]
  },
  {
   "cell_type": "code",
   "execution_count": 21,
   "metadata": {},
   "outputs": [
    {
     "data": {
      "text/plain": [
       "(2, 1)"
      ]
     },
     "execution_count": 21,
     "metadata": {},
     "output_type": "execute_result"
    }
   ],
   "source": [
    "theta = np.zeros((X_train.shape[1]+1, 1))\n",
    "theta.shape"
   ]
  },
  {
   "cell_type": "code",
   "execution_count": 22,
   "metadata": {},
   "outputs": [],
   "source": [
    "X_train1 = biasing(X_train)\n",
    "J, w1 = gradient_ascent(X_train1, Y_train, theta, 0.09, 1000)"
   ]
  },
  {
   "cell_type": "code",
   "execution_count": 23,
   "metadata": {},
   "outputs": [
    {
     "name": "stdout",
     "output_type": "stream",
     "text": [
      "[[-0.98822074]\n",
      " [ 1.95378648]]\n"
     ]
    }
   ],
   "source": [
    "Y_train.shape\n",
    "print(w1)"
   ]
  },
  {
   "cell_type": "code",
   "execution_count": null,
   "metadata": {},
   "outputs": [],
   "source": [
    "print(J)"
   ]
  },
  {
   "cell_type": "code",
   "execution_count": null,
   "metadata": {},
   "outputs": [],
   "source": [
    "X_test = normalise(X_test)\n",
    "X_test1 = biasing(X_test)\n",
    "Y_pred = sigmoid_func(w1, X_test1)"
   ]
  },
  {
   "cell_type": "code",
   "execution_count": null,
   "metadata": {},
   "outputs": [],
   "source": [
    "# h = sigmoid_func(w1, X_test1) ## sigmoid function update\n",
    "# print(h)\n",
    "# theta -= 0.005/m*np.dot((h-(Y_test1)).T,X_test).T ## theta update\n",
    "    \n",
    "# h = sigmoid(np.dot(x_test,theta))"
   ]
  },
  {
   "cell_type": "code",
   "execution_count": 28,
   "metadata": {},
   "outputs": [
    {
     "name": "stdout",
     "output_type": "stream",
     "text": [
      "0.85\n",
      "[0 0 1 0 0 1 0 0 1 1 1 0 0 1 0 1 0 0 0 0 0 0 0 0 0 0 0 0 1 0 1 0 1 0 0 0 0\n",
      " 1 0 1 1 0 1 0 0 1 0 0 0 1 0 0 0 0 1 0 0 0 1 0 0 0 0 0 0 0 1 0 0 1 0 1 1 1\n",
      " 0 0 0 0 1 0]\n"
     ]
    },
    {
     "name": "stderr",
     "output_type": "stream",
     "text": [
      "/home/gray/anaconda3/lib/python3.7/site-packages/sklearn/utils/validation.py:760: DataConversionWarning: A column-vector y was passed when a 1d array was expected. Please change the shape of y to (n_samples, ), for example using ravel().\n",
      "  y = column_or_1d(y, warn=True)\n"
     ]
    }
   ],
   "source": [
    "from sklearn.linear_model import LogisticRegression\n",
    "logisticRegr = LogisticRegression()\n",
    "logisticRegr.fit(X_train, Y_train)\n",
    "predictions = logisticRegr.predict(X_test)\n",
    "score = logisticRegr.score(X_test, Y_test)\n",
    "print(score)\n",
    "print(predictions)"
   ]
  },
  {
   "cell_type": "code",
   "execution_count": null,
   "metadata": {},
   "outputs": [],
   "source": [
    "res=[]\n",
    "for i in range(0, Y_pred.shape[0]):\n",
    "    if(Y_pred[i]>=0.5):\n",
    "        res.append(1)\n",
    "    else:\n",
    "        res.append(0)"
   ]
  },
  {
   "cell_type": "code",
   "execution_count": 30,
   "metadata": {},
   "outputs": [
    {
     "name": "stdout",
     "output_type": "stream",
     "text": [
      "0.85\n"
     ]
    }
   ],
   "source": [
    "true = 0\n",
    "false = 0\n",
    "for i in range(Y_test.shape[0]):\n",
    "    if(Y_test[i] == res[i]):\n",
    "        true+=1\n",
    "    else:\n",
    "        false+=1\n",
    "\n",
    "print(true/(true+false))"
   ]
  },
  {
   "cell_type": "code",
   "execution_count": null,
   "metadata": {},
   "outputs": [],
   "source": []
  }
 ],
 "metadata": {
  "kernelspec": {
   "display_name": "Python 3",
   "language": "python",
   "name": "python3"
  },
  "language_info": {
   "codemirror_mode": {
    "name": "ipython",
    "version": 3
   },
   "file_extension": ".py",
   "mimetype": "text/x-python",
   "name": "python",
   "nbconvert_exporter": "python",
   "pygments_lexer": "ipython3",
   "version": "3.7.6"
  }
 },
 "nbformat": 4,
 "nbformat_minor": 2
}
